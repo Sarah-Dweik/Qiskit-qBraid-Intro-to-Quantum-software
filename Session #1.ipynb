{
 "cells": [
  {
   "cell_type": "markdown",
   "id": "ec548b68-3f90-427a-8f82-0171d05264b3",
   "metadata": {},
   "source": [
    "# Introduction to Quantum Algorithms by BZU Quantum Club\n",
    "## Software Team\n",
    "\n",
    "*This work is inspired by Qword* [QBronze Workeshop](https://qworld.net/qbronze101/)"
   ]
  },
  {
   "cell_type": "markdown",
   "id": "88a5c8a1-1b99-4635-ad1c-6125e59f3d14",
   "metadata": {},
   "source": [
    "**Jupyter Notebook**\n",
    "\n",
    "A Jupyter notebook is composed by one or more cells.\n",
    "This notebook is prepared for Jupyter notebooks, and the menu items and command buttons may differ in Jupyter lab.\n",
    "There are two main cells: \n",
    "\n",
    "- Code : A code cell is used to write and execute your code.\n",
    "- Markdown : A markdown cell is used to write text descriptions, notes, formulas or include graphics and images. You can format your content by using Markdown, HTML, or LaTeX code.\n",
    "\n",
    "During our tutorial, you are expected to write only Python code."
   ]
  },
  {
   "cell_type": "code",
   "execution_count": 2,
   "id": "c2d53421-579c-41ff-a6d2-d601516ae3fe",
   "metadata": {},
   "outputs": [],
   "source": [
    "# This is the second cell in this notebook. Which a commented code cell\n",
    "#\n",
    "# By using the menu item \"Insert\", you can add a new cell before or after the active cell.\n",
    "# When a cell is selected, you may delete it by using the menu item \"Edit\".\n",
    "#\n",
    "# As you may have noticed, there are other editing options under \"Edit\".\n",
    "# For example, copy/cut-paste cells and split-merge cells.\n",
    "#"
   ]
  },
  {
   "cell_type": "code",
   "execution_count": 3,
   "id": "402b3447-a26c-48bd-b950-699d01ee1090",
   "metadata": {},
   "outputs": [
    {
     "name": "stdout",
     "output_type": "stream",
     "text": [
      "Writing first.py\n"
     ]
    }
   ],
   "source": [
    " %%writefile first.py \n",
    "\n",
    "print(\"hello world\")\n",
    "\n",
    "str=\"*\"\n",
    "for i in range(5):\n",
    "    print(str)\n",
    "    str+=\"*\"  "
   ]
  },
  {
   "cell_type": "markdown",
   "id": "526aa240-56bb-4bc8-962d-c3a156f66a69",
   "metadata": {
    "collapsed": true,
    "jupyter": {
     "outputs_hidden": true
    }
   },
   "source": [
    "%run first.py"
   ]
  },
  {
   "cell_type": "markdown",
   "id": "87c61b94-8033-4c77-970b-ffb7352b56e1",
   "metadata": {},
   "source": [
    "## Variable"
   ]
  },
  {
   "cell_type": "code",
   "execution_count": null,
   "id": "88e37764-e20f-427d-908c-cf890a9f7914",
   "metadata": {},
   "outputs": [],
   "source": [
    "number = 5 # integer\n",
    "real = -3.4 # float\n",
    "\n",
    "name = 'Zain' # string\n",
    "surname = \"Lace\" # string\n",
    "\n",
    "boolean1 = True # Boolean \n",
    "boolean2 = False # Boolean "
   ]
  },
  {
   "cell_type": "markdown",
   "id": "5df20749-02f1-4a7a-b7e5-1dee2222e270",
   "metadata": {},
   "source": [
    "## Strings "
   ]
  },
  {
   "cell_type": "code",
   "execution_count": 1,
   "id": "75e44b95-e785-4d9d-b464-aef2bd859b94",
   "metadata": {},
   "outputs": [
    {
     "name": "stdout",
     "output_type": "stream",
     "text": [
      "the char at 0 is I\n",
      "the char at 12 is g\n"
     ]
    }
   ],
   "source": [
    "str1 = \"I am a string\"\n",
    "str2 = 'I am also a string value'\n",
    "\n",
    "# a string can be seen as a list of character (a string with length 1)\n",
    "#    each of them is accessed from 0 to len(str)-1\n",
    "\n",
    "# print the first and last characters of str1\n",
    "print(\"the char at 0 is\",str1[0])\n",
    "print(\"the char at\",len(str1)-1,\"is\",str1[len(str1)-1])"
   ]
  },
  {
   "cell_type": "code",
   "execution_count": 10,
   "id": "9c6c647f-ca85-45aa-92c9-6deefb03fe7f",
   "metadata": {},
   "outputs": [
    {
     "name": "stdout",
     "output_type": "stream",
     "text": [
      "I am the first line,\n",
      "   I am the second line\n",
      "\n"
     ]
    }
   ],
   "source": [
    "# define a string with multiple lines\n",
    "str3 = \"\"\"I am the first line,\n",
    "   I am the second line\n",
    "\"\"\"\n",
    "\n",
    "print(str3)"
   ]
  },
  {
   "cell_type": "markdown",
   "id": "2002b40f-a213-4933-b53a-9b4062105b15",
   "metadata": {},
   "source": [
    "## Arithmetic operators"
   ]
  },
  {
   "cell_type": "markdown",
   "id": "db407360-b5c0-4a73-8b98-7023261988fd",
   "metadata": {},
   "source": [
    "Basics "
   ]
  },
  {
   "cell_type": "code",
   "execution_count": 4,
   "id": "f128c24c-61a8-45cb-86ba-4e159fd22469",
   "metadata": {},
   "outputs": [
    {
     "name": "stdout",
     "output_type": "stream",
     "text": [
      "a = 13\n",
      "b = 5\n",
      "\n",
      "a + b = 18\n",
      "a - b = 8\n",
      "a * b = 65\n",
      "a / b = 2.6\n"
     ]
    }
   ],
   "source": [
    "a = 13\n",
    "b = 5\n",
    "print(\"a =\",a)\n",
    "print(\"b =\",b)\n",
    "print()\n",
    "\n",
    "# basics operators\n",
    "print(\"a + b =\",a+b)\n",
    "print(\"a - b =\",a-b)\n",
    "print(\"a * b =\",a*b)\n",
    "print(\"a / b =\",a/b)"
   ]
  },
  {
   "cell_type": "code",
   "execution_count": 5,
   "id": "ce9e6511-67dd-4416-af5b-c9d6a7fdac5b",
   "metadata": {
    "jupyter": {
     "source_hidden": true
    },
    "scrolled": true
   },
   "outputs": [
    {
     "name": "stdout",
     "output_type": "stream",
     "text": [
      "a = 86\n",
      "b = 5\n",
      "\n",
      "integer division:\n",
      "a//b = 17\n",
      "modulus operator:\n",
      "a mod b = 1\n"
     ]
    }
   ],
   "source": [
    "a = 86\n",
    "b = 5\n",
    "print(\"a =\",a)\n",
    "print(\"b =\",b)\n",
    "print()\n",
    "\n",
    "print(\"integer division:\")\n",
    "print(\"a//b =\",a//b)\n",
    "\n",
    "print(\"modulus operator:\")\n",
    "print(\"a mod b =\",a % b)"
   ]
  },
  {
   "cell_type": "code",
   "execution_count": 6,
   "id": "3f8d2b0d-9ec3-4c3c-84fd-d575eb1e2d24",
   "metadata": {},
   "outputs": [
    {
     "name": "stdout",
     "output_type": "stream",
     "text": [
      "b = 5\n",
      "\n",
      "b*b = 25\n",
      "b*b*b = 125\n",
      "sqrt(b)= 2.23606797749979\n"
     ]
    }
   ],
   "source": [
    "b = 5\n",
    "print(\"b =\",b)\n",
    "print()\n",
    "\n",
    "print(\"b*b =\",b**2)\n",
    "print(\"b*b*b =\",b**3)\n",
    "print(\"sqrt(b)=\",b**0.5)"
   ]
  },
  {
   "cell_type": "markdown",
   "id": "b4f886b7-e541-4b5b-a9e9-b0c31e3e8442",
   "metadata": {},
   "source": [
    "## Objects"
   ]
  },
  {
   "cell_type": "code",
   "execution_count": 27,
   "id": "35a9e80c-1b14-4098-8bfb-ce67b85e95a0",
   "metadata": {
    "collapsed": true,
    "jupyter": {
     "outputs_hidden": true
    },
    "scrolled": true
   },
   "outputs": [
    {
     "name": "stdout",
     "output_type": "stream",
     "text": [
      "the list content is [10, 'Hello', 6, 4, 2]\n",
      "The array content is [1 2 3]\n",
      "dictionary content is {'name': 'Asja', 'surname': 'Karaindrou', 'age': 23}\n",
      "Karaindrou\n",
      "3\n"
     ]
    }
   ],
   "source": [
    "# List\n",
    "mylist = [10,\"Hello\",6,4,2] \n",
    "\n",
    "print(\"the list content is\", mylist)\n",
    "\n",
    "#Array\n",
    "import numpy as np\n",
    "a = np.array([1, 2, 3])\n",
    "print(\"The array content is\", a)\n",
    "\n",
    "# Disctionary \n",
    "mydictionary = {\n",
    "    'name' : \"Asja\",\n",
    "    'surname':'Karaindrou',\n",
    "    'age': 23\n",
    "}\n",
    "\n",
    "print(\"dictionary content is\",mydictionary)\n",
    "\n",
    "print(mydictionary['surname'])\n",
    "\n",
    "# size of a dictionary\n",
    "mydictionary = { 'name' : \"Asja\", 'surname':'Karaindrou', 'age': 23}\n",
    "print(len(mydictionary))"
   ]
  },
  {
   "cell_type": "markdown",
   "id": "6ae33d20-dfa6-49fc-88c6-fedafdeab871",
   "metadata": {},
   "source": [
    "## Loops"
   ]
  },
  {
   "cell_type": "markdown",
   "id": "41d29cff-7c03-45e9-b81a-9c45a19a8e54",
   "metadata": {},
   "source": [
    "*While loop*"
   ]
  },
  {
   "cell_type": "code",
   "execution_count": 28,
   "id": "d3d2abda-ee51-4e2c-8fdf-19b1dbeb9e9a",
   "metadata": {
    "collapsed": true,
    "jupyter": {
     "outputs_hidden": true
    },
    "scrolled": true
   },
   "outputs": [
    {
     "name": "stdout",
     "output_type": "stream",
     "text": [
      "10\n",
      "9\n",
      "8\n",
      "7\n",
      "6\n",
      "5\n",
      "4\n",
      "3\n",
      "2\n",
      "1\n"
     ]
    }
   ],
   "source": [
    "i = 10\n",
    "while i>0: # while condition(s):\n",
    "    print(i)\n",
    "    i = i - 1   "
   ]
  },
  {
   "cell_type": "markdown",
   "id": "9b17269d-91e4-45cb-b693-ae2401ab6db4",
   "metadata": {},
   "source": [
    "*For loop*"
   ]
  },
  {
   "cell_type": "code",
   "execution_count": 7,
   "id": "71bf5919-7aa9-4bca-a91a-b7547f4edeed",
   "metadata": {
    "collapsed": true,
    "jupyter": {
     "outputs_hidden": true
    }
   },
   "outputs": [
    {
     "name": "stdout",
     "output_type": "stream",
     "text": [
      "0\n",
      "1\n",
      "2\n",
      "3\n",
      "4\n",
      "5\n",
      "6\n",
      "7\n",
      "8\n",
      "9\n"
     ]
    }
   ],
   "source": [
    "for i in range(10): # i is in [0,1,...,9]\n",
    "    print(i)"
   ]
  },
  {
   "cell_type": "code",
   "execution_count": 8,
   "id": "54a40108-72e4-4db0-8b72-483130d4bc52",
   "metadata": {
    "collapsed": true,
    "jupyter": {
     "outputs_hidden": true
    }
   },
   "outputs": [
    {
     "name": "stdout",
     "output_type": "stream",
     "text": [
      "-5\n",
      "-4\n",
      "-3\n",
      "-2\n",
      "-1\n",
      "0\n",
      "1\n",
      "2\n",
      "3\n",
      "4\n",
      "5\n"
     ]
    }
   ],
   "source": [
    "for i in range(-5,6): # i is in [-5,-4,...,0,...,4,5]\n",
    "    print(i)"
   ]
  },
  {
   "cell_type": "code",
   "execution_count": 9,
   "id": "9b4201f4-529f-42e9-a3ad-76e94c0cb606",
   "metadata": {
    "collapsed": true,
    "jupyter": {
     "outputs_hidden": true
    }
   },
   "outputs": [
    {
     "name": "stdout",
     "output_type": "stream",
     "text": [
      "0\n",
      "4\n",
      "8\n",
      "12\n",
      "16\n",
      "20\n"
     ]
    }
   ],
   "source": [
    "for i in range(0,23,4): # i is in [0,4,8,12,16,20], start, stop, steps\n",
    "    print(i)"
   ]
  },
  {
   "cell_type": "code",
   "execution_count": 32,
   "id": "13e0dc06-fb3c-45e5-9964-df5851740b60",
   "metadata": {},
   "outputs": [
    {
     "name": "stdout",
     "output_type": "stream",
     "text": [
      "key is name and its value is Asja\n",
      "key is surname and its value is Karaindrou\n",
      "key is age and its value is 23\n"
     ]
    }
   ],
   "source": [
    " # dictionary\n",
    "mydictionary = {\n",
    "    'name' : \"Asja\",\n",
    "    'surname':'Karaindrou',\n",
    "    'age': 23,\n",
    "}\n",
    "\n",
    "for key in mydictionary:\n",
    "    print(\"key is\",key,\"and its value is\",mydictionary[key])"
   ]
  },
  {
   "cell_type": "markdown",
   "id": "6390a54a-23dc-4995-a6e9-6288589b8f92",
   "metadata": {},
   "source": [
    "## Conditions"
   ]
  },
  {
   "cell_type": "code",
   "execution_count": 33,
   "id": "98a86c4c-7ad3-41bb-a823-b295236d06f1",
   "metadata": {},
   "outputs": [
    {
     "name": "stdout",
     "output_type": "stream",
     "text": [
      "4 is less than 5\n",
      "5 is equal to 5\n",
      "6 is greater than 5\n"
     ]
    }
   ],
   "source": [
    "for a in range(4,7):\n",
    "    \n",
    "    # if condition(s)\n",
    "    if a<5: \n",
    "        print(a,\"is less than 5\")\n",
    "        \n",
    "    # elif conditions(s)\n",
    "    elif a==5: \n",
    "        print(a,\"is equal to 5\")\n",
    "        \n",
    "    # else\n",
    "    else:\n",
    "        print(a,\"is greater than 5\")"
   ]
  },
  {
   "cell_type": "code",
   "execution_count": 34,
   "id": "eb14f671-1ee8-4589-bed4-448168cc06f1",
   "metadata": {},
   "outputs": [
    {
     "name": "stdout",
     "output_type": "stream",
     "text": [
      "-3 has minus sign negative AND 4 has plus sign\n"
     ]
    }
   ],
   "source": [
    "# Logical operator \"and\"\n",
    "i = -3\n",
    "j = 4\n",
    "\n",
    "if i<0 and j > 0:  \n",
    "    print(i,\"has minus sign negative AND\",j,\"has plus sign\")"
   ]
  },
  {
   "cell_type": "code",
   "execution_count": 35,
   "id": "d9c43326-8735-4d16-b73a-110a81910c21",
   "metadata": {},
   "outputs": [
    {
     "name": "stdout",
     "output_type": "stream",
     "text": [
      "i OR j is 2: ( -2 , 2 )\n"
     ]
    }
   ],
   "source": [
    " # Logical operator \"or\"\n",
    "i = -2\n",
    "j = 2\n",
    "if i==2 or j == 2:  \n",
    "    print(\"i OR j is 2: (\",i,\",\",j,\")\")"
   ]
  },
  {
   "cell_type": "code",
   "execution_count": 36,
   "id": "a0480aa8-3adf-4fef-9b07-5b5079fa60b5",
   "metadata": {},
   "outputs": [
    {
     "name": "stdout",
     "output_type": "stream",
     "text": [
      "3 is NOT equal to 2\n"
     ]
    }
   ],
   "source": [
    " # Logical operator \"not\"\n",
    "i = 3\n",
    "if not (i==2):\n",
    "    print(i,\"is NOT equal to 2\")"
   ]
  },
  {
   "cell_type": "code",
   "execution_count": 37,
   "id": "496081f6-37ae-4c19-be1e-23ce5df34cc6",
   "metadata": {},
   "outputs": [
    {
     "name": "stdout",
     "output_type": "stream",
     "text": [
      "-1 is EQUAL TO -1\n"
     ]
    }
   ],
   "source": [
    "# Operator \"equal to\"\n",
    "i = -1\n",
    "if i == -1:\n",
    "    print(i,\"is EQUAL TO -1\")"
   ]
  },
  {
   "cell_type": "markdown",
   "id": "34de12ce-7f1f-4287-9637-97871f17bf26",
   "metadata": {},
   "source": [
    "## Functions"
   ]
  },
  {
   "cell_type": "code",
   "execution_count": 38,
   "id": "3dee618d-a052-410e-85af-7520d14a98dc",
   "metadata": {},
   "outputs": [
    {
     "name": "stdout",
     "output_type": "stream",
     "text": [
      "55\n",
      "210\n"
     ]
    }
   ],
   "source": [
    " def summation_of_integers(n):\n",
    "    summation = 0\n",
    "    for integer in range(n+1):\n",
    "        summation = summation + integer\n",
    "    return summation\n",
    "\n",
    "print(summation_of_integers(10))\n",
    "print(summation_of_integers(20))"
   ]
  },
  {
   "cell_type": "markdown",
   "id": "bf9e186c-4607-47ab-9468-7a83abff8ed7",
   "metadata": {},
   "source": [
    "# Math"
   ]
  },
  {
   "cell_type": "markdown",
   "id": "c49d4e8a-efef-41b5-b33c-113d587a817f",
   "metadata": {},
   "source": [
    "## Vectors\n",
    "\n",
    "-  A vector is a list of numbers.\n",
    "-  The vector in Python corresponds to **Quantum State**  \n",
    "-  One Dimensional Lists\n",
    "-  The number of entries in a vector is called the size or dimension of the vector.\n",
    "\n",
    "## Multiplying a vector\n",
    "- number by a vector\n",
    "- vector by a vector: Dot Product\n",
    "\n",
    "## Summation of two vectors \n",
    "- Two vectors (with the same dimension) can be summed up.\n",
    "- The summation of two vectors is a vector: the numbers on the same entries are added up.\n"
   ]
  },
  {
   "cell_type": "code",
   "execution_count": 11,
   "id": "a40d09fb-e79a-4628-90f9-2e3e8efe0bce",
   "metadata": {},
   "outputs": [
    {
     "name": "stdout",
     "output_type": "stream",
     "text": [
      "v is [1, -2, 0, 5]\n",
      "3v is [3, -6, 0, 15]\n"
     ]
    }
   ],
   "source": [
    "# 3 * v\n",
    "v = [1,-2,0,5]\n",
    "print(\"v is\",v)\n",
    "# we use the same list for the result\n",
    "for i in range(len(v)):\n",
    "    v[i] = 3 * v[i]\n",
    "print(\"3v is\",v)"
   ]
  },
  {
   "cell_type": "code",
   "execution_count": 40,
   "id": "eee83684-7694-43e7-a4de-4edaa3e84de4",
   "metadata": {},
   "outputs": [
    {
     "name": "stdout",
     "output_type": "stream",
     "text": [
      "u+v is [-4, -3, 2, -4, 9]\n",
      "\n",
      "the elements of u+v are\n",
      "-4\n",
      "-3\n",
      "2\n",
      "-4\n",
      "9\n"
     ]
    }
   ],
   "source": [
    "u = [-3,-2,0,-1,4]\n",
    "v = [-1,-1,2,-3,5]\n",
    "\n",
    "result=[]\n",
    "for i in range(len(u)):\n",
    "    result.append(u[i]+v[i])\n",
    "\n",
    "print(\"u+v is\",result)\n",
    "\n",
    "# print the result vector similarly to a column vector\n",
    "print() # print an empty line\n",
    "print(\"the elements of u+v are\")\n",
    "for j in range(len(result)):\n",
    "    print(result[j])"
   ]
  },
  {
   "cell_type": "markdown",
   "id": "30708e8f-d158-4c21-8c63-f67eeca10964",
   "metadata": {},
   "source": [
    "# Matrices\n",
    "- We can represent M as a two-dimensional list in Python.\n",
    "- They are important in representing **Quantum Gates**"
   ]
  },
  {
   "cell_type": "code",
   "execution_count": 12,
   "id": "d4348822-0cb7-4e2a-a790-2263c471ca1b",
   "metadata": {},
   "outputs": [
    {
     "name": "stdout",
     "output_type": "stream",
     "text": [
      "[[8, 0, -1, 0, 2], [-2, -3, 1, 1, 4], [0, 0, 1, -7, 1], [1, 4, -2, 5, 9]]\n"
     ]
    }
   ],
   "source": [
    " # we may break lines when defining our list\n",
    "M = [[8 , 0 , -1 , 0 , 2],\n",
    "     [-2 , -3 , 1 , 1 , 4],\n",
    "     [0 , 0 , 1 , -7 , 1],\n",
    "     [1 , 4 , -2 , 5 , 9]\n",
    "] \n",
    "\n",
    "# let's print matrix M\n",
    "print(M)"
   ]
  },
  {
   "cell_type": "markdown",
   "id": "543c2ffa-4e20-4083-94b7-d7bbb5e77c12",
   "metadata": {},
   "source": [
    " Remark that, by definition, the rows and columns of matrices are indexed starting from 1. The (i,j)-th entry of M refers to the entry in i-th row and j-th column.(It is also denoted as M[i,j], M(i,j), or Mij​.)\n",
    " \n",
    " On the other hand, in Python, the indices start from zero.So, when we define a list for a matrix or vector in Python, the value of an index in Python is one less than the value of the original index.Let's see this with the following example."
   ]
  },
  {
   "cell_type": "code",
   "execution_count": 44,
   "id": "a5b6c2e0-ccd1-4893-a714-9d5f9d384b90",
   "metadata": {},
   "outputs": [
    {
     "name": "stdout",
     "output_type": "stream",
     "text": [
      "8\n",
      "-7\n",
      "9\n"
     ]
    }
   ],
   "source": [
    " M = [ \n",
    "    [8 , 0 , -1 , 0 , 2], \n",
    "    [-2 , -3 , 1 , 1 , 4], \n",
    "    [0 , 0 , 1 , -7 , 1],\n",
    "    [1 , 4 , -2 , 5 , 9]\n",
    "] \n",
    "\n",
    "# print the element of M in the 1st row and the 1st column.\n",
    "print(M[0][0])\n",
    "\n",
    "# print the element of M in the 3rd row and the 4th column.\n",
    "print(M[2][3])\n",
    "\n",
    "# print the element of M in the 4th row and the 5th column.\n",
    "print(M[3][4])"
   ]
  },
  {
   "cell_type": "markdown",
   "id": "929396e9-0923-4210-87fe-eb74d9501d0f",
   "metadata": {},
   "source": [
    "## Tensor Product \n",
    "\n",
    "The tensor product can be defined between two vectors or between one vector and one matrix.\n",
    "\n",
    "The importance of tensor product can be summarized in: \n",
    "\n",
    "- Combines Qubits into Larger Systems\n",
    "- Enables Entanglement\n",
    "- Defines Multi-Qubit Operations\n",
    "   "
   ]
  },
  {
   "cell_type": "code",
   "execution_count": 45,
   "id": "cc4d069f-e388-41f0-bcd4-be6cc54be0ba",
   "metadata": {},
   "outputs": [
    {
     "name": "stdout",
     "output_type": "stream",
     "text": [
      "v= [1, 2, -3]\n",
      "u= [-2, 3]\n",
      "vu= [-2, 3, -4, 6, 6, -9]\n"
     ]
    }
   ],
   "source": [
    "# Tensor product between two vectors \n",
    "#Let's find v⊗ u in Python.\n",
    "\n",
    "# vector v\n",
    "v = [1,2,-3]\n",
    "# vector u\n",
    "u=[-2,3]\n",
    "\n",
    "vu = []\n",
    "\n",
    "for i in range(len(v)): # each element of v will be replaced\n",
    "    for j in range(len(u)): # the vector u will come here after multiplying with the entry there\n",
    "        vu.append( v[i] * u[j] )\n",
    "\n",
    "print(\"v=\",v)\n",
    "print(\"u=\",u)\n",
    "print(\"vu=\",vu)"
   ]
  },
  {
   "cell_type": "markdown",
   "id": "2d053d4b-8a41-4e08-9d56-ecf206751c48",
   "metadata": {},
   "source": [
    "## Tensor Product of Two Matrices\n",
    "\n",
    "The definition is the same. Let's find \\( M \\otimes N \\) and \\( N \\otimes M \\) for the given matrices:\n",
    "\n",
    "Let:\n",
    "$$\n",
    "M = \\begin{bmatrix}\n",
    "-1 & 0 & 1 \\\\\n",
    "-2 & -1 & 2 \\\\\n",
    "1 & 2 & -2\n",
    "\\end{bmatrix}, \\quad\n",
    "N = \\begin{bmatrix}\n",
    "0 & 2 & 1 \\\\\n",
    "3 & -1 & -2 \\\\\n",
    "-1 & 1 & 0\n",
    "\\end{bmatrix}\n",
    "$$\n",
    "\n",
    "Each element of \\( M \\) will be replaced with the entire matrix \\( N \\) multiplied by that element.\n",
    "\n",
    "We compute:\n",
    "$$\n",
    "M \\otimes N =\n",
    "\\begin{bmatrix}\n",
    "-1N & 0N & 1N \\\\\n",
    "-2N & -1N & 2N \\\\\n",
    "1N & 2N & -2N\n",
    "\\end{bmatrix}\n",
    "$$\n",
    "\n",
    "Calculating this manually is repetitive. We'll do it once by hand, then verify using Python.\n",
    "\n",
    "The result is:\n",
    "$$\n",
    "M \\otimes N =\n",
    "\\begin{bmatrix}\n",
    "0 & -2 & -1 & 0 & 0 & 0 & 0 & 2 & 1 \\\\\n",
    "-3 & 1 & 2 & 0 & 0 & 0 & 3 & -1 & -2 \\\\\n",
    "1 & -1 & 0 & 0 & 0 & 0 & -1 & 1 & 0 \\\\\n",
    "0 & -4 & -2 & 0 & -2 & -1 & 0 & 4 & 2 \\\\\n",
    "-6 & 2 & 4 & -3 & 1 & 2 & 6 & -2 & -4 \\\\\n",
    "2 & -2 & 0 & 1 & -1 & 0 & -2 & 2 & 0 \\\\\n",
    "0 & 2 & 1 & 0 & 4 & 2 & 0 & -4 & -2 \\\\\n",
    "3 & -1 & -2 & 6 & -2 & -4 & -6 & 2 & 4 \\\\\n",
    "-1 & 1 & 0 & -2 & 2 & 0 & 2 & -2 & 0\n",
    "\\end{bmatrix}\n",
    "$$\n",
    "\n",
    "Now, let's compute the same matrix using Python with nested loops.\n"
   ]
  },
  {
   "cell_type": "code",
   "execution_count": 46,
   "id": "dae8f08c-e886-40da-b091-a575732a100e",
   "metadata": {},
   "outputs": [
    {
     "name": "stdout",
     "output_type": "stream",
     "text": [
      "M-tensor-N is\n",
      "[0, -2, -1, 0, 0, 0, 0, 2, 1]\n",
      "[-3, 1, 2, 0, 0, 0, 3, -1, -2]\n",
      "[1, -1, 0, 0, 0, 0, -1, 1, 0]\n",
      "[0, -4, -2, 0, -2, -1, 0, 4, 2]\n",
      "[-6, 2, 4, -3, 1, 2, 6, -2, -4]\n",
      "[2, -2, 0, 1, -1, 0, -2, 2, 0]\n",
      "[0, 2, 1, 0, 4, 2, 0, -4, -2]\n",
      "[3, -1, -2, 6, -2, -4, -6, 2, 4]\n",
      "[-1, 1, 0, -2, 2, 0, 2, -2, 0]\n"
     ]
    }
   ],
   "source": [
    "# matrix M\n",
    "M = [ \n",
    "    [-1,0,1],\n",
    "    [-2,-1,2],\n",
    "    [1,2,-2]\n",
    "]\n",
    "\n",
    "# matrix N\n",
    "N = [\n",
    "    [0,2,1],\n",
    "    [3,-1,-2],\n",
    "    [-1,1,0]\n",
    "]\n",
    "\n",
    "# MN will be a (9x9)-dimensional matrix\n",
    "# prepare it as a zero matrix\n",
    "# this helps us to easily fill it \n",
    "MN=[]\n",
    "for i in range(9):\n",
    "    MN.append([])\n",
    "    for j in range(9):\n",
    "        MN[i].append(0)\n",
    "\n",
    "for i in range(3): # row of M\n",
    "    for j in range(3): # column of M\n",
    "        for k in range(3): # row of N\n",
    "            for l in range(3): # column of N\n",
    "                MN[i*3+k][3*j+l] = M[i][j] * N[k][l] \n",
    "\n",
    "print(\"M-tensor-N is\")                \n",
    "for i in range(9):\n",
    "    print(MN[i])"
   ]
  },
  {
   "cell_type": "code",
   "execution_count": null,
   "id": "babfab0a-acf8-4422-9d47-64216c8aa67b",
   "metadata": {},
   "outputs": [],
   "source": []
  }
 ],
 "metadata": {
  "kernelspec": {
   "display_name": "Python 3 [Default]",
   "language": "python",
   "name": "python3"
  },
  "language_info": {
   "codemirror_mode": {
    "name": "ipython",
    "version": 3
   },
   "file_extension": ".py",
   "mimetype": "text/x-python",
   "name": "python",
   "nbconvert_exporter": "python",
   "pygments_lexer": "ipython3",
   "version": "3.11.9"
  }
 },
 "nbformat": 4,
 "nbformat_minor": 5
}
