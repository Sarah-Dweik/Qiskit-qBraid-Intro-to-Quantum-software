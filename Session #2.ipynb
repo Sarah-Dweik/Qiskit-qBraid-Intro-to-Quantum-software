{
 "cells": [
  {
   "cell_type": "markdown",
   "id": "72d1dc51-57dd-4dea-bba6-7d18e35e9e1c",
   "metadata": {},
   "source": [
    "# Quantum Algorithm\n",
    "\n",
    "A **quantum algorithm** is a set of instructions run on a **quantum computer** to solve a problem faster or more efficiently than a regular (classical) computer.\n",
    "\n",
    "## Quantum algorithm components \n",
    "1. Qubit \n",
    "2. Quantum Circuit\n",
    "3. Quantum Gates\n",
    "\n",
    "## General Procedure \n",
    "1. Needed imports\n",
    "2. Construct the circuit\n",
    "3. Implement the desired gates\n",
    "4. Measure the result- Final state of the Qubit"
   ]
  },
  {
   "cell_type": "markdown",
   "id": "383ebf9e-7a67-4b05-a2fd-0e712e1a213a",
   "metadata": {},
   "source": [
    "## What is a Qubit? \n",
    "\n",
    "Qubit is a **Quantum Mechanical** system, that take the rule of information unit.\n",
    "\n",
    "\n",
    "-\n",
    "## Quantum Mechanical system properties\n",
    "\n",
    "- **Superposition**  \n",
    "  $|\\psi\\rangle = A|\\psi_1\\rangle + B|\\psi_2\\rangle$  \n",
    "  Ability for the quantum system to be in different states simultaneously.\n",
    "\n",
    "- **Measurement**  \n",
    "  Measuring the quantum state causes the superposition to collapse randomly.\n",
    "\n",
    "- **Normalization**  \n",
    "  The amplitude of the quantum wavefunction must be 1.\n",
    "\n",
    "- **Born’s Rule**  \n",
    "  Describes the probability of each state of the quantum system.  \n",
    "  \\(A^2 + B^2 = 1\\)\n",
    "\n",
    "- **Entanglement**  \n",
    "  Ability to **exactly** know the measurement result of one part of the system when knowing the random result of its entangled partner.\n",
    "\n",
    "## Example \n",
    "\n",
    "- **Zero state**  \n",
    "  Ket notation:  \n",
    "  $$\n",
    "  |0\\rangle\n",
    "  $$  \n",
    "  Vector notation:  \n",
    "  $$\n",
    "  |0\\rangle = \n",
    "  \\begin{bmatrix}\n",
    "  1 \\\\\n",
    "  0\n",
    "  \\end{bmatrix}\n",
    "  $$\n",
    "\n",
    "- **One state**  \n",
    "  Ket notation:  \n",
    "  $$\n",
    "  |1\\rangle\n",
    "  $$  \n",
    "  Vector notation:  \n",
    "  $$\n",
    "  |1\\rangle = \n",
    "  \\begin{bmatrix}\n",
    "  0 \\\\\n",
    "  1\n",
    "  \\end{bmatrix}\n",
    "  $$\n",
    "\n",
    "- **Equal superposition state** (e.g. after applying a Hadamard gate to \\(|0\\rangle\\))  \n",
    "  Ket notation:  \n",
    "  $$\n",
    "  |\\psi\\rangle = \\frac{1}{\\sqrt{2}}|0\\rangle + \\frac{1}{\\sqrt{2}}|1\\rangle\n",
    "  $$  \n",
    "  Vector notation:  \n",
    "  $$\n",
    "  |\\psi\\rangle =\n",
    "  \\frac{1}{\\sqrt{2}}\n",
    "  \\begin{bmatrix}\n",
    "  1 \\\\\n",
    "  1\n",
    "  \\end{bmatrix}\n",
    "  $$\n"
   ]
  },
  {
   "cell_type": "markdown",
   "id": "16567fdc-053b-45ac-8a20-786f78779c6d",
   "metadata": {},
   "source": [
    "# Quantum Gates \n",
    "\n",
    "## Classical vs Quantum Gates\n",
    "\n",
    "| **Feature**         | **Classical Gate**           | **Quantum Gate**                          |\n",
    "|---------------------|------------------------------|--------------------------------------------|\n",
    "| **Input**           | Bits (0 or 1)                | Qubits (superposition of 0 and 1)          |\n",
    "| **Output**          | Deterministic                | Probabilistic (after measurement)          |\n",
    "| **Operation Type**  | Irreversible (mostly)        | Reversible                                 |\n",
    "| **Logic**           | Boolean logic                | Quantum logic (unitary operations)         |\n",
    "\n"
   ]
  },
  {
   "cell_type": "markdown",
   "id": "aa327b43-5005-4a50-8731-bf68cbe9e736",
   "metadata": {},
   "source": [
    "# Quantum Gates – Matrix Form\n",
    "\n",
    "- **Pauli-X Gate (NOT Gate)**  \n",
    "  $$\n",
    "  X =\n",
    "  \\begin{bmatrix}\n",
    "  0 & 1 \\\\\n",
    "  1 & 0\n",
    "  \\end{bmatrix}\n",
    "  $$\n",
    "\n",
    "- **Hadamard Gate (H Gate)**  \n",
    "  $$\n",
    "  H = \\frac{1}{\\sqrt{2}}\n",
    "  \\begin{bmatrix}\n",
    "  1 & 1 \\\\\n",
    "  1 & -1\n",
    "  \\end{bmatrix}\n",
    "  $$\n",
    "\n",
    "- **Controlled-NOT Gate (CNOT or CX Gate)**  \n",
    "  $$\n",
    "  CX =\n",
    "  \\begin{bmatrix}\n",
    "  1 & 0 & 0 & 0 \\\\\n",
    "  0 & 1 & 0 & 0 \\\\\n",
    "  0 & 0 & 0 & 1 \\\\\n",
    "  0 & 0 & 1 & 0\n",
    "  \\end{bmatrix}\n",
    "  $$\n",
    "\n",
    "These matrices define how each gate transforms the state of qubits when applied.\n"
   ]
  },
  {
   "cell_type": "markdown",
   "id": "b57ed18d-20c0-40e4-bc39-32f47792c239",
   "metadata": {},
   "source": [
    "## Let us CODE!!"
   ]
  },
  {
   "cell_type": "code",
   "execution_count": 1,
   "id": "c2d20a46-e243-43bb-9289-69b1e8b3f0f9",
   "metadata": {},
   "outputs": [],
   "source": [
    "# import the objects from qiskit\n",
    "from qiskit import QuantumRegister, ClassicalRegister, QuantumCircuit\n",
    "from qiskit_aer import AerSimulator, StatevectorSimulator, UnitarySimulator"
   ]
  },
  {
   "cell_type": "code",
   "execution_count": 8,
   "id": "26fdc770-6ab5-4100-9079-f69b2f5b7a4c",
   "metadata": {},
   "outputs": [
    {
     "name": "stdout",
     "output_type": "stream",
     "text": [
      "The execution of the cell was completed, and the circuit was created :)\n"
     ]
    }
   ],
   "source": [
    "from random import randrange\n",
    "\n",
    "# create a quantum circuit and its register objects\n",
    "qreg = QuantumRegister(2) # quantum register with two quantum bits\n",
    "creg = ClassicalRegister(2) # classical register with two classical bit\n",
    "circuit = QuantumCircuit(qreg,creg) # quantum circuit composed by a quantum register and a classical register\n",
    "\n",
    "# apply a Hadamard gate to the first qubit\n",
    "circuit.h(qreg[0])\n",
    "\n",
    "# set the second qubit to state |1>\n",
    "circuit.x(qreg[1])\n",
    "\n",
    "# apply CNOT(first_qubit,second_qubit)\n",
    "circuit.cx(qreg[1],qreg[0])\n",
    "\n",
    "# measure the both qubits\n",
    "circuit.measure(qreg,creg)\n",
    "\n",
    "print(\"The execution of the cell was completed, and the circuit was created :)\")"
   ]
  },
  {
   "cell_type": "code",
   "execution_count": 4,
   "id": "1af07b56-5b80-4ebb-b25e-65cbe17470cc",
   "metadata": {
    "collapsed": true,
    "jupyter": {
     "outputs_hidden": true
    },
    "scrolled": true
   },
   "outputs": [
    {
     "name": "stdout",
     "output_type": "stream",
     "text": [
      "Requirement already satisfied: pylatexenc in /home/jovyan/.qbraid/environments/qiskit_i5o7if/pyenv/lib/python3.9/site-packages (2.10)\n",
      "\n",
      "\u001b[1m[\u001b[0m\u001b[34;49mnotice\u001b[0m\u001b[1;39;49m]\u001b[0m\u001b[39;49m A new release of pip is available: \u001b[0m\u001b[31;49m23.1.2\u001b[0m\u001b[39;49m -> \u001b[0m\u001b[32;49m25.0.1\u001b[0m\n",
      "\u001b[1m[\u001b[0m\u001b[34;49mnotice\u001b[0m\u001b[1;39;49m]\u001b[0m\u001b[39;49m To update, run: \u001b[0m\u001b[32;49m/home/jovyan/.qbraid/environments/qiskit_i5o7if/pyenv/bin/python -m pip install --upgrade pip\u001b[0m\n",
      "Note: you may need to restart the kernel to use updated packages.\n"
     ]
    }
   ],
   "source": [
    "pip install pylatexenc"
   ]
  },
  {
   "cell_type": "code",
   "execution_count": 9,
   "id": "25605e13-70c9-43c2-ba36-d5716315965e",
   "metadata": {},
   "outputs": [
    {
     "data": {
      "image/png": "[encoded data removed]",
      "text/plain": [
       "<Figure size 472.747x284.278 with 1 Axes>"
      ]
     },
     "execution_count": 9,
     "metadata": {},
     "output_type": "execute_result"
    }
   ],
   "source": [
    "# draw circuit \n",
    "circuit.draw(output='mpl')\n",
    "\n",
    "# the output will be a \"matplotlib.Figure\" object"
   ]
  },
  {
   "cell_type": "code",
   "execution_count": 17,
   "id": "2c3e27d1-b06b-4d6d-ac9e-500ff3f8d66a",
   "metadata": {},
   "outputs": [
    {
     "name": "stdout",
     "output_type": "stream",
     "text": [
      "{'11': 517, '10': 507}\n"
     ]
    }
   ],
   "source": [
    "## execute the circuit 1024 times\n",
    "job = AerSimulator().run(circuit,shots=1024)\n",
    "# get the result\n",
    "counts = job.result().get_counts(circuit)\n",
    "print(counts)"
   ]
  },
  {
   "cell_type": "code",
   "execution_count": 14,
   "id": "a2d0460c-cef6-4299-96e5-7ad6d075fd33",
   "metadata": {},
   "outputs": [
    {
     "data": {
      "text/html": [
       "<pre style=\"word-wrap: normal;white-space: pre;background: #fff0;line-height: 1.1;font-family: &quot;Courier New&quot;,Courier,monospace\">                 ┌───┐┌───────────────┐┌───┐ ░ ┌─┐            \n",
       "q_0: ────────────┤ X ├┤ U(2π/7,0,0,0) ├┤ X ├─░─┤M├────────────\n",
       "        ┌───┐    └─┬─┘└───────┬───────┘└─┬─┘ ░ └╥┘┌─┐         \n",
       "q_1: ───┤ H ├──────■──────────■──────────■───░──╫─┤M├─────────\n",
       "        ├───┤                            │   ░  ║ └╥┘┌─┐      \n",
       "q_2: ───┤ X ├────────────────────────────■───░──╫──╫─┤M├──────\n",
       "     ┌──┴───┴───┐                            ░  ║  ║ └╥┘┌─┐   \n",
       "q_3: ┤ Ry(2π/7) ├────────────────────────────░──╫──╫──╫─┤M├───\n",
       "     └──┬───┬───┘                            ░  ║  ║  ║ └╥┘┌─┐\n",
       "q_4: ───┤ Z ├────────────────────────────────░──╫──╫──╫──╫─┤M├\n",
       "        └───┘                                ░  ║  ║  ║  ║ └╥┘\n",
       "c: 5/═══════════════════════════════════════════╩══╩══╩══╩══╩═\n",
       "                                                3  1  4  0  2 </pre>"
      ],
      "text/plain": [
       "                 ┌───┐┌───────────────┐┌───┐ ░ ┌─┐            \n",
       "q_0: ────────────┤ X ├┤ U(2π/7,0,0,0) ├┤ X ├─░─┤M├────────────\n",
       "        ┌───┐    └─┬─┘└───────┬───────┘└─┬─┘ ░ └╥┘┌─┐         \n",
       "q_1: ───┤ H ├──────■──────────■──────────■───░──╫─┤M├─────────\n",
       "        ├───┤                            │   ░  ║ └╥┘┌─┐      \n",
       "q_2: ───┤ X ├────────────────────────────■───░──╫──╫─┤M├──────\n",
       "     ┌──┴───┴───┐                            ░  ║  ║ └╥┘┌─┐   \n",
       "q_3: ┤ Ry(2π/7) ├────────────────────────────░──╫──╫──╫─┤M├───\n",
       "     └──┬───┬───┘                            ░  ║  ║  ║ └╥┘┌─┐\n",
       "q_4: ───┤ Z ├────────────────────────────────░──╫──╫──╫──╫─┤M├\n",
       "        └───┘                                ░  ║  ║  ║  ║ └╥┘\n",
       "c: 5/═══════════════════════════════════════════╩══╩══╩══╩══╩═\n",
       "                                                3  1  4  0  2 "
      ]
     },
     "metadata": {},
     "output_type": "display_data"
    },
    {
     "data": {
      "image/png": "[encoded data removed]",
      "text/plain": [
       "<Figure size 1625.27x869.556 with 1 Axes>"
      ]
     },
     "metadata": {},
     "output_type": "display_data"
    },
    {
     "name": "stdout",
     "output_type": "stream",
     "text": [
      "measurement outcomes are: {'10000': 434, '11011': 21, '10010': 314, '11010': 58, '10001': 91, '10011': 82}\n",
      "\n",
      "unitary matrix is\n",
      "[[ 0.   +0.j  0.   +0.j  0.532+0.j  0.847-0.j]\n",
      " [ 0.847+0.j -0.532+0.j  0.   +0.j  0.   +0.j]\n",
      " [ 0.532+0.j  0.847-0.j  0.   +0.j  0.   +0.j]\n",
      " [ 0.   +0.j  0.   +0.j  0.847+0.j -0.532+0.j]]\n",
      "\n",
      "quantum state is\n",
      "0.0+0.0j\n",
      "0.847+0.0j\n",
      "0.532+0.0j\n",
      "0.0+0.0j\n",
      "\n",
      "All looks fine :-)\n"
     ]
    }
   ],
   "source": [
    "from math import pi\n",
    "\n",
    "# A quantum circuit is composed by a quantum and a classical register in Qiskit\n",
    "q = QuantumRegister(5,\"q\") # this quantum register has 5 qubits\n",
    "c = ClassicalRegister(5,\"c\") # this classical register has 5 classical bits\n",
    "\n",
    "qc = QuantumCircuit(q,c) # a quantum circuit with quantum and classical registers q and c\n",
    "\n",
    "qc.x(q[2]) # apply x-gate to the qubit \"q[2]\" of the quantum circuit \"qc\"\n",
    "qc.z(q[4]) # apply z-gate to the qubit \"q[4]\" of the quantum circuit \"qc\"\n",
    "qc.h(q[1]) # apply h-gate to the qubit \"q[1]\" of the quantum circuit \"qc\"\n",
    "\n",
    "a = pi/7\n",
    "qc.ry(2*a,q[3]) # apply ry-gate with the specified angle to the qubit \"q[3]\" of the quantum circuit \"qc\"\n",
    "\n",
    "qc.cx(q[1],q[0]) # apply cx-gate to the qubits \"q[1]\" and \"q[0]\" of the quantum circuit \"qc\"\n",
    "\n",
    "qc.cu(2*a,0,0,0,q[1],q[0]) # apply controlled rotation operator with the specified angle \n",
    "                          #  to the qubits \"q[1]\" and \"q[0]\" of the quantum circuit \"qc\"\n",
    "\n",
    "qc.ccx(q[2],q[1],q[0]) # apply ccx-gate to the qubits \"q[2]\", \"q[1]\", and \"q[0]\" of the quantum circuit \"qc\"\n",
    "\n",
    "qc.barrier()\n",
    "\n",
    "qc.measure(q[0],c[3]) # measure q[0] and write the output on c[3]\n",
    "qc.measure(q[1],c[1]) # measure q[1] and write the output on c[1]\n",
    "qc.measure(q[2],c[4]) # measure q[2] and write the output on c[4]\n",
    "qc.measure(q[3],c[0]) # measure q[3] and write the output on c[0]\n",
    "qc.measure(q[4],c[2]) # measure q[4] and write the output on c[2]\n",
    "\n",
    "display(qc.draw())\n",
    "\n",
    "qc.barrier()\n",
    "\n",
    "qc.h(q[0]).c_if(c,5)\n",
    "qc.x(q[0]).c_if(c,3)\n",
    "qc.z(q[0]).c_if(c,1)\n",
    "\n",
    "for i in range(5):\n",
    "    if i % 2 ==0: qc.h(q[i])\n",
    "    else: qc.x(q[i])\n",
    "        \n",
    "b = 3*pi/11\n",
    "qc.cu(2*b,0,0,0,q[1],q[0])\n",
    "\n",
    "display(qc.draw(output='mpl',reverse_bits=True))\n",
    "\n",
    "job = AerSimulator().run(qc,shots=1000)\n",
    "counts = job.result().get_counts(qc)   \n",
    "print(\"measurement outcomes are:\",counts)\n",
    "print()\n",
    "\n",
    "q = QuantumRegister(2,\"q\")\n",
    "c = ClassicalRegister(2,\"c\")\n",
    "\n",
    "qc = QuantumCircuit(q,c)\n",
    "\n",
    "qc.h(q[0])\n",
    "qc.ry(a,q[0])\n",
    "qc.x(q[1])\n",
    "qc.cx(q[0],q[1])\n",
    "\n",
    "job = UnitarySimulator().run(qc,shots=1,optimization_level=0)\n",
    "precision = 3\n",
    "current_unitary=job.result().get_unitary(qc,precision).data\n",
    "\n",
    "print(\"unitary matrix is\")\n",
    "print(current_unitary)\n",
    "print()\n",
    "\n",
    "job = StatevectorSimulator().run(qc,optimization_level=0)\n",
    "precision = 3\n",
    "current_quantum_state=job.result().get_statevector(qc,precision).data\n",
    "print(\"quantum state is\")\n",
    "for val in current_quantum_state:\n",
    "    print(str(val.real)+\"+\"+str(val.imag)+\"j\")\n",
    "\n",
    "print()\n",
    "print(\"All looks fine :-)\")  "
   ]
  },
  {
   "cell_type": "code",
   "execution_count": null,
   "id": "5f72bac8-8a3a-44cf-9c9c-7a18860d35bb",
   "metadata": {},
   "outputs": [],
   "source": []
  }
 ],
 "metadata": {
  "kernelspec": {
   "display_name": "Python 3 [Qiskit]",
   "language": "python",
   "name": "python3_qiskit_i5o7if"
  },
  "language_info": {
   "codemirror_mode": {
    "name": "ipython",
    "version": 3
   },
   "file_extension": ".py",
   "mimetype": "text/x-python",
   "name": "python",
   "nbconvert_exporter": "python",
   "pygments_lexer": "ipython3",
   "version": "3.9.22"
  }
 },
 "nbformat": 4,
 "nbformat_minor": 5
}
