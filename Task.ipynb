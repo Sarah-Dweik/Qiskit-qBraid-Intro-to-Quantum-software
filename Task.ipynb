{
 "cells": [
  {
   "cell_type": "markdown",
   "id": "3960308d-236b-454d-b4de-021984b7c6bc",
   "metadata": {},
   "source": [
    "# 🐍 Python"
   ]
  },
  {
   "cell_type": "markdown",
   "id": "4dd01bd1-96c4-4462-8841-020b7d8a7514",
   "metadata": {},
   "source": [
    "## Task 1: \n",
    "\n",
    "Calculate the value of the summation 30+31+32+⋯+38, and then print the result."
   ]
  },
  {
   "cell_type": "markdown",
   "id": "2ac982d9-eb43-40d4-835b-669b5f8db52e",
   "metadata": {},
   "source": [
    "## Task 2\n",
    "Randomly pick number(s) between 0 and 9 until hitting 3, and then print the number of attempt(s).We can use randrange function from random module for randomly picking a number in the given range."
   ]
  },
  {
   "cell_type": "code",
   "execution_count": 2,
   "id": "d0e64e65-554c-4537-9c3b-9dbbf7fa1ed1",
   "metadata": {},
   "outputs": [],
   "source": [
    " # this is the code for including function randrange into our program \n",
    "from random import randrange\n",
    "# randrange(n) picks a number from the list [0,1,2,...,n-1] randomly\n",
    "#r = randrange(100)\n",
    "#print(r)\n",
    "\n",
    "#\n",
    "# your solution is here\n",
    "#"
   ]
  },
  {
   "cell_type": "markdown",
   "id": "94d162ed-3651-4763-874d-6fecf822f808",
   "metadata": {},
   "source": [
    "## Task 3\n",
    "\n",
    "usage of double nested loops: one loop inside of the other loop.In the second task above, the expected number of attempt(s) to hit number 3 is 10. Do a series of experiments by using your solution for Task 2.\n",
    "\n",
    "Experiment 1: Execute your solution 20 times, and then calculate the average attempts.\n",
    "\n",
    "Experiment 2: Execute your solution 200 times, and then calculate the average attempts.\n",
    "\n",
    "Experiment 3: Execute your solution 2000 times, and then calculate the average attempts.\n",
    "\n",
    "Experiment 4: Execute your solution 20000 times, and then calculate the average attempts.\n",
    "\n",
    "Experiment 5: Execute your solution 200000 times, and then calculate the average attempts.\n",
    "\n",
    "Your experimental average should get closer to 10 when the number of executions is increase d.Remark that all five experiments may also be automatically done by using triple loops."
   ]
  },
  {
   "cell_type": "code",
   "execution_count": 3,
   "id": "55753fbc-096f-44a6-ae6b-be7cb75b4df4",
   "metadata": {},
   "outputs": [],
   "source": [
    " # here is a schematic example for double nested loops\n",
    "#for i in range(10):\n",
    "#    your_code1\n",
    "#    your_code2\n",
    "#    while j != 7:\n",
    "#        your_code_3\n",
    "#        your_code_4\n",
    "\n",
    "#\n",
    "# your solution is here\n",
    "#"
   ]
  },
  {
   "cell_type": "markdown",
   "id": "6744589b-0379-46a0-a3ac-4f1ba3ecd502",
   "metadata": {},
   "source": [
    "# ⚛️ Quantum Circuit"
   ]
  },
  {
   "cell_type": "markdown",
   "id": "f3c4ba25-e7e3-40fe-9a34-164c5b75fc15",
   "metadata": {},
   "source": [
    "## Task 1: Randomly picking an 8-bit binary number \n",
    "\n",
    "Design a quantum circuit with 8 quantum bits and 8 classical bits.For each quantum bit, flip a coin by python, and apply x-gate if the outcome is head.Measure your quantum bits.Execute your circuit 10 times.Repeat this task as much as you want, and enjoy your random choices."
   ]
  },
  {
   "cell_type": "code",
   "execution_count": null,
   "id": "01f35a0a-ba0a-4ab3-aec1-bab442764773",
   "metadata": {},
   "outputs": [],
   "source": [
    " #\n",
    "# your solution is here\n",
    "#"
   ]
  },
  {
   "cell_type": "markdown",
   "id": "0c6c57aa-80a8-4392-a7f6-967fd9c7da22",
   "metadata": {},
   "source": [
    "## Task 2: Superposition \n",
    "\n",
    "Remember that x-gate flips the value of a qubit.\n",
    "\n",
    "Design a quantum circuit with a single qubit.\n",
    "The qubit is initially set to ∣0⟩.Set the value of qubit to ∣1⟩ by using x-gate.\n",
    "Experiment 1: Apply one Hadamard gate, make measurement, and execute your program 10000 times.\n",
    "Experiment 2: Apply two Hadamard gates, make measurement, and execute your program 10000 times.Compare your results."
   ]
  },
  {
   "cell_type": "markdown",
   "id": "001682b4-bf63-40b1-8f65-ccc043899ad9",
   "metadata": {},
   "source": [
    "## Task 3\n",
    "\n",
    "Start in state ∣1⟩.\n",
    "Apply a Hadamard gate.\n",
    "Make a measurement. If the measurement outcome is 0, stop.Otherwise, apply a second Hadamard, and then make a measurement.\n",
    "Execute your circuit 1000 times.Calculate the expected values of observing '0' and '1', and then compare your result with the simulator result."
   ]
  },
  {
   "cell_type": "code",
   "execution_count": 4,
   "id": "bac347f7-55e6-40f2-a414-e2d8d1cf47c6",
   "metadata": {},
   "outputs": [],
   "source": [
    "# import all necessary objects and methods for quantum circuits\n",
    "from qiskit import QuantumRegister, ClassicalRegister, QuantumCircuit\n",
    "from qiskit_aer import AerSimulator\n",
    "\n",
    "#\n",
    "# your code is here\n",
    "#"
   ]
  },
  {
   "cell_type": "markdown",
   "id": "2efe68b0-64aa-415e-949d-5ca415bf1512",
   "metadata": {},
   "source": [
    "## Task 4: Two Qubit system\n",
    "Verify the vector representations of ∣00⟩,∣01⟩,∣10⟩,∣11⟩:"
   ]
  },
  {
   "cell_type": "markdown",
   "id": "a5c20369-48d4-4df1-9273-8a715a113cea",
   "metadata": {},
   "source": [
    "## Task 5: Applying and Verifying H ⊗ I\n",
    "\n",
    "We define a quantum circuit with two qubits: `q0` and `q1`.  \n",
    "In Qiskit, they are tensored as **q₁ ⊗ q₀** (meaning `q1` is the most significant qubit).\n",
    "\n",
    "We apply the Hadamard operator to `q1`.  \n",
    "This means the full operator applied to the system is **H ⊗ I**.\n",
    "\n",
    "```python\n",
    "from qiskit import QuantumCircuit\n",
    "qc = QuantumCircuit(2)\n",
    "qc.h(1)\n",
    "qc.draw(output='mpl', reverse_bits=True)\n"
   ]
  },
  {
   "cell_type": "markdown",
   "id": "029b53e8-5ef1-4f27-9a8a-adabc4349e2b",
   "metadata": {},
   "source": [
    "# 🧪 Application--> Entanglement "
   ]
  },
  {
   "cell_type": "markdown",
   "id": "3b0ff83f-70de-4bf4-8a20-a07edcaae6de",
   "metadata": {},
   "source": [
    "## Task 1: Superdense coding\n",
    "\n",
    "Verify the correctness of the superdense protocol.For each pair of (a,b)∈{(0,0),(0,1),(1,0),(1,1)}:\n",
    "Create a quantum circuit with two qubits: Alice's and Bob's qubits\n",
    "Both are initially set to ∣0⟩\n",
    "Apply h-gate (Hadamard) to Asja's qubit\n",
    "Apply cx-gate as CNOT(Alice's-qubit,Bob's-qubit)\n",
    "Assume that both qubits are separated from each other.\n",
    "     If $ a $ is 1, then apply a z-gate to Alice's qubit. \n",
    "     If $ b $ is 1, then apply x-gate (NOT) to Asja's qubit. \n",
    "\n",
    "\n",
    "Assume that Asja sends her qubit to Balvis.\n",
    "Apply cx-gate as CNOT(Asja's-qubit,Balvis'-qubit)\n",
    "Apply h-gate (Hadamard) to Asja's qubitMeasure both qubits and compare the results with pair (a,b)"
   ]
  }
 ],
 "metadata": {
  "kernelspec": {
   "display_name": "Python 3 [Qiskit]",
   "language": "python",
   "name": "python3_qiskit_i5o7if"
  },
  "language_info": {
   "codemirror_mode": {
    "name": "ipython",
    "version": 3
   },
   "file_extension": ".py",
   "mimetype": "text/x-python",
   "name": "python",
   "nbconvert_exporter": "python",
   "pygments_lexer": "ipython3",
   "version": "3.9.22"
  }
 },
 "nbformat": 4,
 "nbformat_minor": 5
}
